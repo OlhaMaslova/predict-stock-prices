{
 "cells": [
  {
   "cell_type": "code",
   "execution_count": null,
   "metadata": {},
   "outputs": [],
   "source": [
    "# !pip install pandas-datareader\n",
    "# !pip install yfinance"
   ]
  },
  {
   "cell_type": "markdown",
   "metadata": {},
   "source": [
    "# Stock Prediction Using Data From Yahoo Finance\n",
    "## ETL Pipeline Preparation\n",
    "\n",
    "### 1. Import libraries and load datasets.\n",
    "- Import Python libraries\n",
    "- Get ticker\n",
    "- Load stock prices into a dataframe and inspect the first few lines."
   ]
  },
  {
   "cell_type": "markdown",
   "metadata": {},
   "source": [
    "`1`. Import Necessary libararies"
   ]
  },
  {
   "cell_type": "code",
   "execution_count": 58,
   "metadata": {},
   "outputs": [],
   "source": [
    "import sys\n",
    "\n",
    "from sklearn.metrics import mean_squared_error\n",
    "from sqlalchemy import create_engine\n",
    "import matplotlib.pyplot as plt\n",
    "from datetime import date\n",
    "import yfinance as yf\n",
    "import seaborn as sns\n",
    "from math import sqrt\n",
    "import pandas as pd\n",
    "import numpy as np\n",
    "\n",
    "\n",
    "from lib import get_data\n",
    "\n",
    "\n",
    "sns.set_style('whitegrid')\n",
    "yf.pdr_override()"
   ]
  },
  {
   "cell_type": "markdown",
   "metadata": {},
   "source": [
    "`2.` Get ticker from user input"
   ]
  },
  {
   "cell_type": "code",
   "execution_count": 51,
   "metadata": {},
   "outputs": [
    {
     "name": "stdout",
     "output_type": "stream",
     "text": [
      "Please enter ticker: \n"
     ]
    },
    {
     "name": "stdin",
     "output_type": "stream",
     "text": [
      " googl\n"
     ]
    }
   ],
   "source": [
    "# get ticker from user input. ex: \"AAPL\", \"DOW\", \"GOOG\"\n",
    "print('Please enter ticker: ')\n",
    "ticker = input()"
   ]
  },
  {
   "cell_type": "markdown",
   "metadata": {},
   "source": [
    "`3.` Load the data"
   ]
  },
  {
   "cell_type": "code",
   "execution_count": 52,
   "metadata": {},
   "outputs": [
    {
     "name": "stdout",
     "output_type": "stream",
     "text": [
      "Loading data for: googl\n",
      "[*********************100%***********************]  1 of 1 completed\n",
      "                 Open       High        Low      Close  Adj Close    Volume\n",
      "Date                                                                       \n",
      "2004-08-19  50.050049  52.082081  48.028027  50.220219  50.220219  44659096\n",
      "2004-08-20  50.555557  54.594597  50.300301  54.209209  54.209209  22834343\n",
      "2004-08-23  55.430431  56.796799  54.579578  54.754753  54.754753  18256126\n",
      "2004-08-24  55.675674  55.855858  51.836838  52.487488  52.487488  15247337\n",
      "2004-08-25  52.532532  54.054054  51.991993  53.053055  53.053055   9188602\n"
     ]
    }
   ],
   "source": [
    "# load data from Yahoo finance\n",
    "print('Loading data for:', ticker)\n",
    "try:\n",
    "    df = get_data(ticker.upper())\n",
    "    print(df.head())\n",
    "except Exception:\n",
    "    print('Data can not be loaded.')\n"
   ]
  },
  {
   "cell_type": "markdown",
   "metadata": {},
   "source": [
    "\n",
    "## Exploratory Data Analysis"
   ]
  },
  {
   "cell_type": "code",
   "execution_count": 55,
   "metadata": {},
   "outputs": [
    {
     "data": {
      "text/html": [
       "<div>\n",
       "<style scoped>\n",
       "    .dataframe tbody tr th:only-of-type {\n",
       "        vertical-align: middle;\n",
       "    }\n",
       "\n",
       "    .dataframe tbody tr th {\n",
       "        vertical-align: top;\n",
       "    }\n",
       "\n",
       "    .dataframe thead th {\n",
       "        text-align: right;\n",
       "    }\n",
       "</style>\n",
       "<table border=\"1\" class=\"dataframe\">\n",
       "  <thead>\n",
       "    <tr style=\"text-align: right;\">\n",
       "      <th></th>\n",
       "      <th>Open</th>\n",
       "      <th>High</th>\n",
       "      <th>Low</th>\n",
       "      <th>Close</th>\n",
       "      <th>Adj Close</th>\n",
       "      <th>Volume</th>\n",
       "    </tr>\n",
       "  </thead>\n",
       "  <tbody>\n",
       "    <tr>\n",
       "      <th>count</th>\n",
       "      <td>4273.000000</td>\n",
       "      <td>4273.000000</td>\n",
       "      <td>4273.000000</td>\n",
       "      <td>4273.000000</td>\n",
       "      <td>4273.000000</td>\n",
       "      <td>4.273000e+03</td>\n",
       "    </tr>\n",
       "    <tr>\n",
       "      <th>mean</th>\n",
       "      <td>615.057230</td>\n",
       "      <td>620.921164</td>\n",
       "      <td>608.989131</td>\n",
       "      <td>615.160787</td>\n",
       "      <td>615.160787</td>\n",
       "      <td>6.622968e+06</td>\n",
       "    </tr>\n",
       "    <tr>\n",
       "      <th>std</th>\n",
       "      <td>510.186756</td>\n",
       "      <td>515.023962</td>\n",
       "      <td>505.618397</td>\n",
       "      <td>510.689380</td>\n",
       "      <td>510.689380</td>\n",
       "      <td>7.773135e+06</td>\n",
       "    </tr>\n",
       "    <tr>\n",
       "      <th>min</th>\n",
       "      <td>49.644646</td>\n",
       "      <td>50.920921</td>\n",
       "      <td>48.028027</td>\n",
       "      <td>50.055054</td>\n",
       "      <td>50.055054</td>\n",
       "      <td>4.656000e+05</td>\n",
       "    </tr>\n",
       "    <tr>\n",
       "      <th>25%</th>\n",
       "      <td>245.195190</td>\n",
       "      <td>247.617615</td>\n",
       "      <td>241.741745</td>\n",
       "      <td>244.844849</td>\n",
       "      <td>244.844849</td>\n",
       "      <td>1.740100e+06</td>\n",
       "    </tr>\n",
       "    <tr>\n",
       "      <th>50%</th>\n",
       "      <td>389.764771</td>\n",
       "      <td>393.068054</td>\n",
       "      <td>386.941956</td>\n",
       "      <td>390.740753</td>\n",
       "      <td>390.740753</td>\n",
       "      <td>3.950900e+06</td>\n",
       "    </tr>\n",
       "    <tr>\n",
       "      <th>75%</th>\n",
       "      <td>930.989990</td>\n",
       "      <td>936.299988</td>\n",
       "      <td>923.450012</td>\n",
       "      <td>929.750000</td>\n",
       "      <td>929.750000</td>\n",
       "      <td>8.299692e+06</td>\n",
       "    </tr>\n",
       "    <tr>\n",
       "      <th>max</th>\n",
       "      <td>2726.239990</td>\n",
       "      <td>2765.939941</td>\n",
       "      <td>2710.860107</td>\n",
       "      <td>2738.260010</td>\n",
       "      <td>2738.260010</td>\n",
       "      <td>8.215117e+07</td>\n",
       "    </tr>\n",
       "  </tbody>\n",
       "</table>\n",
       "</div>"
      ],
      "text/plain": [
       "              Open         High          Low        Close    Adj Close  \\\n",
       "count  4273.000000  4273.000000  4273.000000  4273.000000  4273.000000   \n",
       "mean    615.057230   620.921164   608.989131   615.160787   615.160787   \n",
       "std     510.186756   515.023962   505.618397   510.689380   510.689380   \n",
       "min      49.644646    50.920921    48.028027    50.055054    50.055054   \n",
       "25%     245.195190   247.617615   241.741745   244.844849   244.844849   \n",
       "50%     389.764771   393.068054   386.941956   390.740753   390.740753   \n",
       "75%     930.989990   936.299988   923.450012   929.750000   929.750000   \n",
       "max    2726.239990  2765.939941  2710.860107  2738.260010  2738.260010   \n",
       "\n",
       "             Volume  \n",
       "count  4.273000e+03  \n",
       "mean   6.622968e+06  \n",
       "std    7.773135e+06  \n",
       "min    4.656000e+05  \n",
       "25%    1.740100e+06  \n",
       "50%    3.950900e+06  \n",
       "75%    8.299692e+06  \n",
       "max    8.215117e+07  "
      ]
     },
     "execution_count": 55,
     "metadata": {},
     "output_type": "execute_result"
    }
   ],
   "source": [
    "df.describe()"
   ]
  },
  {
   "cell_type": "code",
   "execution_count": 56,
   "metadata": {},
   "outputs": [
    {
     "name": "stdout",
     "output_type": "stream",
     "text": [
      "<class 'pandas.core.frame.DataFrame'>\n",
      "DatetimeIndex: 4273 entries, 2004-08-19 to 2021-08-09\n",
      "Data columns (total 6 columns):\n",
      " #   Column     Non-Null Count  Dtype  \n",
      "---  ------     --------------  -----  \n",
      " 0   Open       4273 non-null   float64\n",
      " 1   High       4273 non-null   float64\n",
      " 2   Low        4273 non-null   float64\n",
      " 3   Close      4273 non-null   float64\n",
      " 4   Adj Close  4273 non-null   float64\n",
      " 5   Volume     4273 non-null   int64  \n",
      "dtypes: float64(5), int64(1)\n",
      "memory usage: 233.7 KB\n"
     ]
    }
   ],
   "source": [
    "df.info()"
   ]
  },
  {
   "cell_type": "code",
   "execution_count": 57,
   "metadata": {},
   "outputs": [
    {
     "data": {
      "text/plain": [
       "Open         0\n",
       "High         0\n",
       "Low          0\n",
       "Close        0\n",
       "Adj Close    0\n",
       "Volume       0\n",
       "dtype: int64"
      ]
     },
     "execution_count": 57,
     "metadata": {},
     "output_type": "execute_result"
    }
   ],
   "source": [
    "np.sum(df.isnull())"
   ]
  },
  {
   "cell_type": "code",
   "execution_count": 53,
   "metadata": {},
   "outputs": [],
   "source": [
    "def line_plot_adj_price(df, col_name, ticker=ticker):\n",
    "    plt.figure(figsize=(14, 8))\n",
    "    df[col_name].plot()\n",
    "    plt.xlabel(\"Date\")\n",
    "    plt.ylabel(\"Price\")\n",
    "    plt.title(\"Adjusted Closing price of {}\".format(ticker))\n",
    "    plt.show()"
   ]
  },
  {
   "cell_type": "code",
   "execution_count": 54,
   "metadata": {},
   "outputs": [
    {
     "data": {
      "image/png": "[encoded data removed]",
      "text/plain": [
       "<Figure size 1008x576 with 1 Axes>"
      ]
     },
     "metadata": {},
     "output_type": "display_data"
    }
   ],
   "source": [
    "# Plot closing prices\n",
    "line_plot_adj_price(df, 'Adj Close')"
   ]
  },
  {
   "cell_type": "code",
   "execution_count": 8,
   "metadata": {},
   "outputs": [
    {
     "data": {
      "text/plain": [
       "Open         0\n",
       "High         0\n",
       "Low          0\n",
       "Close        0\n",
       "Adj Close    0\n",
       "Volume       0\n",
       "dtype: int64"
      ]
     },
     "execution_count": 8,
     "metadata": {},
     "output_type": "execute_result"
    }
   ],
   "source": [
    "np.sum(df.isnull())"
   ]
  },
  {
   "cell_type": "markdown",
   "metadata": {},
   "source": [
    "### Save the clean dataset into an sqlite database."
   ]
  },
  {
   "cell_type": "code",
   "execution_count": 59,
   "metadata": {},
   "outputs": [],
   "source": [
    "engine = create_engine('sqlite:///prices.db')\n",
    "df.to_sql('messages', engine, index=False)"
   ]
  }
 ],
 "metadata": {
  "kernelspec": {
   "display_name": "Python 3",
   "language": "python",
   "name": "python3"
  },
  "language_info": {
   "codemirror_mode": {
    "name": "ipython",
    "version": 3
   },
   "file_extension": ".py",
   "mimetype": "text/x-python",
   "name": "python",
   "nbconvert_exporter": "python",
   "pygments_lexer": "ipython3",
   "version": "3.8.5"
  }
 },
 "nbformat": 4,
 "nbformat_minor": 4
}
